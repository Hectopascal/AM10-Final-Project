{
 "cells": [
  {
   "cell_type": "code",
   "execution_count": 15,
   "metadata": {},
   "outputs": [
    {
     "name": "stdout",
     "output_type": "stream",
     "text": [
      "01.txt\n",
      "03.txt\n",
      "04.txt\n",
      "06.txt\n",
      "08.txt\n",
      "09.txt\n",
      "11.txt\n",
      "12.txt\n"
     ]
    }
   ],
   "source": [
    "#!/usr/bin/env python3\n",
    "# -*- coding: utf-8 -*-\n",
    "\n",
    "import numpy as np\n",
    "import pandas as pd\n",
    "import matplotlib.pyplot as plt   # main plotting library\n",
    "import re\n",
    "import preprocessor as p \n",
    "import os\n",
    "\n",
    "import nltk \n",
    "from nltk.sentiment.vader import SentimentIntensityAnalyzer\n",
    "from nltk.corpus import stopwords\n",
    "from wordcloud import WordCloud   \n",
    "\n",
    "# Reading files\n",
    "statements = []\n",
    "directory = \"./data/2009/\"\n",
    "for filename in os.listdir(directory):\n",
    "    if filename.endswith(\".txt\"):\n",
    "        print(filename)\n",
    "        f = open(directory+filename, \"r\")\n",
    "        statements.append(f.read())\n",
    "        f.close()"
   ]
  },
  {
   "cell_type": "code",
   "execution_count": null,
   "metadata": {},
   "outputs": [],
   "source": []
  },
  {
   "cell_type": "code",
   "execution_count": 16,
   "metadata": {},
   "outputs": [
    {
     "name": "stderr",
     "output_type": "stream",
     "text": [
      "[nltk_data] Downloading package punkt to\n",
      "[nltk_data]     C:\\Users\\Yan\\AppData\\Roaming\\nltk_data...\n",
      "[nltk_data]   Package punkt is already up-to-date!\n",
      "[nltk_data] Downloading package stopwords to\n",
      "[nltk_data]     C:\\Users\\Yan\\AppData\\Roaming\\nltk_data...\n",
      "[nltk_data]   Package stopwords is already up-to-date!\n"
     ]
    }
   ],
   "source": [
    "from nltk.tokenize import word_tokenize \n",
    "nltk.download('punkt')\n",
    "nltk.download('stopwords') # download stopwords \n",
    "sw = set(stopwords.words('english'))\n",
    "\n",
    "\n",
    "cleaned = [word_tokenize(re.sub(\"[^a-zA-Z]\", \" \", p.clean(x)).strip().lower()) for x in statements]\n",
    "cleaned_tokens = [(x) for x in cleaned]  \n",
    "cleaned_statement = []\n",
    "for token_list in cleaned_tokens:\n",
    "    token_list = [w for w in token_list if not w in sw]  \n",
    "    cleaned_statement.append(\" \".join(token_list))"
   ]
  },
  {
   "cell_type": "code",
   "execution_count": 17,
   "metadata": {},
   "outputs": [
    {
     "name": "stdout",
     "output_type": "stream",
     "text": [
      "0.055,0.707,0.238,0.9948\n",
      "0.082,0.708,0.21,0.984\n",
      "0.077,0.751,0.172,0.977\n",
      "0.068,0.764,0.168,0.9723\n",
      "0.071,0.746,0.183,0.981\n",
      "0.077,0.733,0.19,0.9836\n",
      "0.095,0.738,0.167,0.9678\n",
      "0.054,0.744,0.202,0.9936\n"
     ]
    }
   ],
   "source": [
    "sid = SentimentIntensityAnalyzer() \n",
    "\n",
    "for s in cleaned_statement:\n",
    "    scores = sid.polarity_scores(s)\n",
    "    print(str(scores['neg'])+\",\"+ str(scores['neu'])+\",\"+str(scores['pos'])+\",\"+str(scores['compound']))"
   ]
  }
 ],
 "metadata": {
  "kernelspec": {
   "display_name": "Python 3",
   "language": "python",
   "name": "python3"
  },
  "language_info": {
   "codemirror_mode": {
    "name": "ipython",
    "version": 3
   },
   "file_extension": ".py",
   "mimetype": "text/x-python",
   "name": "python",
   "nbconvert_exporter": "python",
   "pygments_lexer": "ipython3",
   "version": "3.7.6"
  }
 },
 "nbformat": 4,
 "nbformat_minor": 4
}
