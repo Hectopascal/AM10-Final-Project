{
 "cells": [
  {
   "cell_type": "code",
   "execution_count": 44,
   "metadata": {},
   "outputs": [
    {
     "name": "stdout",
     "output_type": "stream",
     "text": [
      "01.txt\n",
      "03-1.txt\n",
      "03-2.txt\n",
      "03-3.txt\n",
      "04.txt\n",
      "06.txt\n",
      "07.txt\n",
      "09.txt\n",
      "11.txt\n"
     ]
    }
   ],
   "source": [
    "#!/usr/bin/env python3\n",
    "# -*- coding: utf-8 -*-\n",
    "\n",
    "import numpy as np\n",
    "import pandas as pd\n",
    "import matplotlib.pyplot as plt   # main plotting library\n",
    "import re\n",
    "import preprocessor as p \n",
    "import os\n",
    "\n",
    "import nltk \n",
    "from nltk.sentiment.vader import SentimentIntensityAnalyzer\n",
    "from nltk.corpus import stopwords\n",
    "from wordcloud import WordCloud   \n",
    "\n",
    "# Reading files\n",
    "statements = []\n",
    "directory = \"./statments/\"\n",
    "for filename in os.listdir(directory):\n",
    "    if filename.endswith(\".txt\"):\n",
    "        print(filename)\n",
    "        f = open(filename, \"r\")\n",
    "        statements.append(f.read())\n",
    "        f.close()"
   ]
  },
  {
   "cell_type": "code",
   "execution_count": 45,
   "metadata": {},
   "outputs": [
    {
     "name": "stderr",
     "output_type": "stream",
     "text": [
      "[nltk_data] Downloading package punkt to\n",
      "[nltk_data]     C:\\Users\\Yan\\AppData\\Roaming\\nltk_data...\n",
      "[nltk_data]   Package punkt is already up-to-date!\n",
      "[nltk_data] Downloading package stopwords to\n",
      "[nltk_data]     C:\\Users\\Yan\\AppData\\Roaming\\nltk_data...\n",
      "[nltk_data]   Package stopwords is already up-to-date!\n"
     ]
    }
   ],
   "source": [
    "from nltk.tokenize import word_tokenize \n",
    "nltk.download('punkt')\n",
    "nltk.download('stopwords') # download stopwords \n",
    "sw = set(stopwords.words('english'))\n",
    "\n",
    "\n",
    "cleaned = [word_tokenize(re.sub(\"[^a-zA-Z]\", \" \", p.clean(x)).strip().lower()) for x in statements]\n",
    "cleaned_tokens = [(x) for x in cleaned]  \n",
    "cleaned_statement = []\n",
    "for token_list in cleaned_tokens:\n",
    "    token_list = [w for w in token_list if not w in sw]  \n",
    "    cleaned_statement.append(\" \".join(token_list))"
   ]
  },
  {
   "cell_type": "code",
   "execution_count": 46,
   "metadata": {},
   "outputs": [
    {
     "name": "stdout",
     "output_type": "stream",
     "text": [
      "{'neg': 0.051, 'neu': 0.814, 'pos': 0.135, 'compound': 0.9915}\n",
      "{'neg': 0.055, 'neu': 0.762, 'pos': 0.183, 'compound': 0.9927}\n",
      "{'neg': 0.038, 'neu': 0.759, 'pos': 0.203, 'compound': 0.9987}\n",
      "{'neg': 0.015, 'neu': 0.723, 'pos': 0.262, 'compound': 0.9977}\n",
      "{'neg': 0.053, 'neu': 0.764, 'pos': 0.183, 'compound': 0.9955}\n",
      "{'neg': 0.044, 'neu': 0.768, 'pos': 0.188, 'compound': 0.9967}\n",
      "{'neg': 0.04, 'neu': 0.768, 'pos': 0.192, 'compound': 0.9969}\n",
      "{'neg': 0.034, 'neu': 0.794, 'pos': 0.172, 'compound': 0.997}\n",
      "{'neg': 0.036, 'neu': 0.788, 'pos': 0.176, 'compound': 0.996}\n"
     ]
    }
   ],
   "source": [
    "for s in cleaned_statement:\n",
    "    print(sid.polarity_scores(s))"
   ]
  }
 ],
 "metadata": {
  "kernelspec": {
   "display_name": "Python 3",
   "language": "python",
   "name": "python3"
  },
  "language_info": {
   "codemirror_mode": {
    "name": "ipython",
    "version": 3
   },
   "file_extension": ".py",
   "mimetype": "text/x-python",
   "name": "python",
   "nbconvert_exporter": "python",
   "pygments_lexer": "ipython3",
   "version": "3.7.6"
  }
 },
 "nbformat": 4,
 "nbformat_minor": 4
}
