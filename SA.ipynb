{
 "cells": [
  {
   "cell_type": "code",
   "execution_count": 12,
   "metadata": {},
   "outputs": [
    {
     "name": "stdout",
     "output_type": "stream",
     "text": [
      "01.txt\n",
      "03.txt\n",
      "04.txt\n",
      "06.txt\n",
      "08.txt\n",
      "09.txt\n",
      "10.txt\n",
      "12.txt\n"
     ]
    }
   ],
   "source": [
    "#!/usr/bin/env python3\n",
    "# -*- coding: utf-8 -*-\n",
    "\n",
    "import numpy as np\n",
    "import pandas as pd\n",
    "import matplotlib.pyplot as plt   # main plotting library\n",
    "import re\n",
    "import preprocessor as p \n",
    "import os\n",
    "\n",
    "import nltk \n",
    "from nltk.sentiment.vader import SentimentIntensityAnalyzer\n",
    "from nltk.corpus import stopwords\n",
    "from wordcloud import WordCloud   \n",
    "\n",
    "# Reading files\n",
    "statements = []\n",
    "directory = \"./data/2008/\"\n",
    "for filename in os.listdir(directory):\n",
    "    if filename.endswith(\".txt\"):\n",
    "        print(filename)\n",
    "        f = open(directory+filename, \"r\")\n",
    "        statements.append(f.read())\n",
    "        f.close()"
   ]
  },
  {
   "cell_type": "code",
   "execution_count": null,
   "metadata": {},
   "outputs": [],
   "source": []
  },
  {
   "cell_type": "code",
   "execution_count": 13,
   "metadata": {},
   "outputs": [
    {
     "name": "stderr",
     "output_type": "stream",
     "text": [
      "[nltk_data] Downloading package punkt to\n",
      "[nltk_data]     C:\\Users\\Yan\\AppData\\Roaming\\nltk_data...\n",
      "[nltk_data]   Package punkt is already up-to-date!\n",
      "[nltk_data] Downloading package stopwords to\n",
      "[nltk_data]     C:\\Users\\Yan\\AppData\\Roaming\\nltk_data...\n",
      "[nltk_data]   Package stopwords is already up-to-date!\n"
     ]
    }
   ],
   "source": [
    "from nltk.tokenize import word_tokenize \n",
    "nltk.download('punkt')\n",
    "nltk.download('stopwords') # download stopwords \n",
    "sw = set(stopwords.words('english'))\n",
    "\n",
    "\n",
    "cleaned = [word_tokenize(re.sub(\"[^a-zA-Z]\", \" \", p.clean(x)).strip().lower()) for x in statements]\n",
    "cleaned_tokens = [(x) for x in cleaned]  \n",
    "cleaned_statement = []\n",
    "for token_list in cleaned_tokens:\n",
    "    token_list = [w for w in token_list if not w in sw]  \n",
    "    cleaned_statement.append(\" \".join(token_list))"
   ]
  },
  {
   "cell_type": "code",
   "execution_count": 14,
   "metadata": {},
   "outputs": [
    {
     "name": "stdout",
     "output_type": "stream",
     "text": [
      "0.077,0.783,0.141,0.8807\n",
      "0.094,0.73,0.177,0.9459\n",
      "0.067,0.751,0.182,0.9653\n",
      "0.063,0.74,0.197,0.9648\n",
      "0.066,0.742,0.192,0.9549\n",
      "0.084,0.691,0.225,0.9607\n",
      "0.073,0.716,0.212,0.9795\n",
      "0.069,0.73,0.201,0.9845\n"
     ]
    }
   ],
   "source": [
    "sid = SentimentIntensityAnalyzer() \n",
    "\n",
    "for s in cleaned_statement:\n",
    "    scores = sid.polarity_scores(s)\n",
    "    print(str(scores['neg'])+\",\"+ str(scores['neu'])+\",\"+str(scores['pos'])+\",\"+str(scores['compound']))"
   ]
  }
 ],
 "metadata": {
  "kernelspec": {
   "display_name": "Python 3",
   "language": "python",
   "name": "python3"
  },
  "language_info": {
   "codemirror_mode": {
    "name": "ipython",
    "version": 3
   },
   "file_extension": ".py",
   "mimetype": "text/x-python",
   "name": "python",
   "nbconvert_exporter": "python",
   "pygments_lexer": "ipython3",
   "version": "3.7.6"
  }
 },
 "nbformat": 4,
 "nbformat_minor": 4
}
