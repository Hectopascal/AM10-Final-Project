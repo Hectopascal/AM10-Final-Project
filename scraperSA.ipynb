{
 "cells": [
  {
   "cell_type": "code",
   "execution_count": 10,
   "metadata": {
    "scrolled": true
   },
   "outputs": [
    {
     "name": "stderr",
     "output_type": "stream",
     "text": [
      "[nltk_data] Downloading package punkt to\n",
      "[nltk_data]     C:\\Users\\Yan\\AppData\\Roaming\\nltk_data...\n",
      "[nltk_data]   Package punkt is already up-to-date!\n",
      "[nltk_data] Downloading package stopwords to\n",
      "[nltk_data]     C:\\Users\\Yan\\AppData\\Roaming\\nltk_data...\n",
      "[nltk_data]   Package stopwords is already up-to-date!\n"
     ]
    },
    {
     "name": "stdout",
     "output_type": "stream",
     "text": [
      "https://www.nytimes.com/video/world/europe/100000007429934/merkel-germany-coronavirus-lockdown-light.html\n",
      "https://www.nytimes.com/interactive/2020/11/06/world/europe/europe-covid-hospitals.html\n",
      "https://www.nytimes.com/video/us/politics/100000007444602/biden-coronavirus-briefing.html\n",
      "https://www.nytimes.com/video/us/politics/100000007445000/biden-coronavirus-briefing.html\n",
      "https://www.nytimes.com/video/us/politics/100000007444937/de-blasio-new-york-virus-spike-restrictions.html\n",
      "https://www.nytimes.com/video/world/europe/100000007449644/spain-unveils-new-covid-strategy.html\n",
      "https://www.nytimes.com/interactive/2020/11/11/science/wear-mask-covid-particles-ul-fr.html\n",
      "https://www.nytimes.com/interactive/2020/11/11/us/politics/white-house-covid-outbreak.html\n",
      "https://www.nytimes.com/video/world/africa/100000007449921/south-africa-lift-coronavirus-restrictions.html\n",
      "https://www.nytimes.com/video/us/politics/100000007451170/wisconsin-ohio-coronavirus-restrictions.html\n",
      "https://www.nytimes.com/video/world/europe/100000007451588/france-coronavirus-lockdown.html\n",
      "https://www.nytimes.com/video/business/economy/100000007452127/coronavirus-vaccine-economic-recovery.html\n",
      "https://www.nytimes.com/interactive/2020/11/15/nyregion/nyc-street-vendors-undocumented-immigrants-covid.html\n",
      "https://www.nytimes.com/interactive/2020/11/16/us/virus-military.html\n",
      "https://www.nytimes.com/video/us/politics/100000007456458/biden-briefing-economy.html\n",
      "https://www.nytimes.com/interactive/2020/11/17/us/familyinterrupted-madrid.html\n",
      "https://www.nytimes.com/video/us/politics/100000007458643/california-emergency-brake-coronavirus.html\n",
      "https://www.nytimes.com/video/world/australia/100000007460878/australia-coronavirus-cases-lockdown.html\n",
      "https://www.nytimes.com/video/us/politics/100000007461712/biden-trump-health-care-coronavirus.html\n",
      "https://www.nytimes.com/interactive/2020/11/18/us/covid-state-restrictions.html\n",
      "https://www.nytimes.com/interactive/2020/11/20/us/south-dakota-mask-debate.html\n",
      "https://www.nytimes.com/interactive/2020/us/about-coronavirus-data-maps.html\n",
      "https://www.nytimes.com/video/nyregion/100000007467088/new-york-cornavirus-test-lines.html\n",
      "https://www.nytimes.com/interactive/2020/11/23/opinion/covid-thanksgiving-travel.html\n",
      "https://www.nytimes.com/video/world/europe/100000007468735/england-coronavirus-restrictions-reopening.html\n",
      "https://www.nytimes.com/video/us/politics/100000007469054/new-york-cuomo-coronavirus-restrictions.html\n",
      "https://www.nytimes.com/interactive/2020/11/24/us/politics/trump-twitter-tweets-election-results.html\n",
      "https://www.nytimes.com/interactive/2020/11/24/us/familyinterrupted-cohen.html\n",
      "https://www.nytimes.com/interactive/2020/11/24/well/thanksgiving-tips.html\n",
      "https://www.nytimes.com/video/world/europe/100000007471502/britiain-coronavirus-restrictions-christmas.html\n",
      "https://www.nytimes.com/interactive/2020/11/25/us/coronavirus-cases-rising.html\n",
      "https://www.nytimes.com/video/us/politics/100000007474058/biden-thanksgiving-coronavirus.html\n",
      "https://www.nytimes.com/video/nyregion/nyregionspecial/100000007475365/macy-day-thanksgiving-parade-coronavirus.html\n",
      "https://www.nytimes.com/2020/11/28/world/a-video-in-a-hospital-courtyard-captures-an-81-year-old-italians-serenade-to-his-dying-wife.html\n"
     ]
    }
   ],
   "source": [
    "#!/usr/bin/env python3\n",
    "# -*- coding: utf-8 -*-\n",
    "\n",
    "import numpy as np\n",
    "import pandas as pd\n",
    "import matplotlib.pyplot as plt   # main plotting library\n",
    "import re\n",
    "import preprocessor as p \n",
    "import os\n",
    "\n",
    "import nltk \n",
    "from nltk.sentiment.vader import SentimentIntensityAnalyzer\n",
    "from nltk.corpus import stopwords\n",
    "from nltk.tokenize import word_tokenize \n",
    "import json\n",
    "import urllib\n",
    "from bs4 import BeautifulSoup\n",
    "\n",
    "\n",
    "\n",
    "nltk.download('punkt')\n",
    "nltk.download('stopwords')\n",
    "sw = set(stopwords.words('english'))\n",
    "sid = SentimentIntensityAnalyzer() \n",
    "\n",
    "def sentiment_analyzer(t):\n",
    "    cleaned = word_tokenize(re.sub(\"[^a-zA-Z]\", \" \", p.clean(t)).strip().lower())\n",
    "    token_list = [w for w in cleaned if not w in sw]  \n",
    "    s=\" \".join(token_list)\n",
    "    return sid.polarity_scores(s)\n",
    "\n",
    "\n",
    "directory = \"./data/nytimes/\"\n",
    "\n",
    "articles = []\n",
    "\n",
    "outfile = open(\"scores11.csv\", \"a+\")\n",
    "f = open(directory+\"11.json\", \"r\")\n",
    "articles =json.load(f)['response']['docs']\n",
    "f.close()\n",
    "\n",
    "for article in articles:\n",
    "    abstract = article['abstract'].lower()\n",
    "    if \"outbreak\" in abstract or \"virus\" in abstract or \"covid\" in abstract:\n",
    "        url = article['web_url']\n",
    "        if \"video\" in url or \"interactive\" in url:\n",
    "            print(url)\n",
    "        else:\n",
    "            c = urllib.request.urlopen(url)\n",
    "            parsed = BeautifulSoup(c, 'html.parser')\n",
    "            articleBody = parsed.find(attrs={\"name\": \"articleBody\"})\n",
    "            if articleBody is not None:\n",
    "                textbody = articleBody.text\n",
    "                scores = sentiment_analyzer(textbody)\n",
    "                toWrite = str(scores['neg'])+\",\"+ str(scores['neu'])+\",\"+str(scores['pos'])+\",\"+str(scores['compound'])+\",\"+article['pub_date']\n",
    "\n",
    "                outfile.write(toWrite+\"\\n\")\n",
    "            else:\n",
    "                print(url)\n",
    "\n",
    "                                    "
   ]
  },
  {
   "cell_type": "code",
   "execution_count": 11,
   "metadata": {},
   "outputs": [],
   "source": [
    "outfile.close()"
   ]
  },
  {
   "cell_type": "code",
   "execution_count": null,
   "metadata": {},
   "outputs": [],
   "source": []
  }
 ],
 "metadata": {
  "kernelspec": {
   "display_name": "Python 3",
   "language": "python",
   "name": "python3"
  },
  "language_info": {
   "codemirror_mode": {
    "name": "ipython",
    "version": 3
   },
   "file_extension": ".py",
   "mimetype": "text/x-python",
   "name": "python",
   "nbconvert_exporter": "python",
   "pygments_lexer": "ipython3",
   "version": "3.7.6"
  }
 },
 "nbformat": 4,
 "nbformat_minor": 4
}
