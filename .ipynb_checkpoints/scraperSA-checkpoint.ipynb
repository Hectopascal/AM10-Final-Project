{
 "cells": [
  {
   "cell_type": "code",
   "execution_count": 7,
   "metadata": {
    "scrolled": true
   },
   "outputs": [
    {
     "name": "stderr",
     "output_type": "stream",
     "text": [
      "[nltk_data] Downloading package punkt to\n",
      "[nltk_data]     C:\\Users\\Yan\\AppData\\Roaming\\nltk_data...\n",
      "[nltk_data]   Package punkt is already up-to-date!\n",
      "[nltk_data] Downloading package stopwords to\n",
      "[nltk_data]     C:\\Users\\Yan\\AppData\\Roaming\\nltk_data...\n",
      "[nltk_data]   Package stopwords is already up-to-date!\n"
     ]
    },
    {
     "name": "stdout",
     "output_type": "stream",
     "text": [
      "https://www.nytimes.com/video/world/100000007141490/-india-police-pandemic-coronavirus.html\n",
      "https://www.nytimes.com/video/us/100000007081097/-coronavirus-stay-home-hospital.html\n",
      "https://www.nytimes.com/video/opinion/100000007161418/coronavirus-georgia-restaurant-reopening.html\n",
      "https://www.nytimes.com/video/world/americas/100000007144621/coronavirus-mexico-death-toll.html\n",
      "https://www.nytimes.com/interactive/2020/06/06/business/economy/high-unemployment-few-coronavirus-cases.html\n",
      "https://www.nytimes.com/interactive/2020/06/06/us/coronavirus-priests-last-rites.html\n",
      "https://www.nytimes.com/interactive/2020/06/08/upshot/when-epidemiologists-will-do-everyday-things-coronavirus.html\n",
      "https://www.nytimes.com/video/us/100000007180666/new-zealand-reports-no-new-active-coronavirus-cases.html\n",
      "https://www.nytimes.com/interactive/2020/06/08/us/meat-processing-plants-coronavirus.html\n",
      "https://www.nytimes.com/interactive/2020/06/09/magazine/architecture-covid.html\n",
      "https://www.nytimes.com/interactive/2020/06/10/world/coronavirus-history.html\n",
      "https://www.nytimes.com/interactive/2020/06/10/magazine/covid-data.html\n",
      "https://www.nytimes.com/interactive/2020/06/11/multimedia/coronavirus-new-york-inequality.html\n",
      "https://www.nytimes.com/video/nyregion/100000007156203/coronavirus-black-community-deaths.html\n",
      "https://www.nytimes.com/video/us/100000007194473/european-health-care-workers-protest-for-better-working-conditions.html\n",
      "https://www.nytimes.com/interactive/2020/06/17/burst/5-swipes-for-a-low-risk-salon-visit.html\n",
      "https://www.nytimes.com/interactive/2020/06/18/burst/lower-coronavirus-risk-at-gym.html\n",
      "https://www.nytimes.com/interactive/2020/06/19/sports/100-days-without-sports.html\n",
      "https://www.nytimes.com/interactive/2020/06/19/us/us-coronavirus-covid-death-toll.html\n",
      "https://www.nytimes.com/interactive/2020/06/22/burst/how-to-pee-in-the-woods.html\n",
      "https://www.nytimes.com/video/opinion/100000007105817/coronavirus-texas-hospital.html\n",
      "https://www.nytimes.com/interactive/2020/us/coronavirus-spread.html\n",
      "https://www.nytimes.com/video/us/100000007212150/new-delhi-coronavirus-tests.html\n",
      "https://www.nytimes.com/interactive/2020/us/coronavirus-nursing-homes.html\n"
     ]
    }
   ],
   "source": [
    "#!/usr/bin/env python3\n",
    "# -*- coding: utf-8 -*-\n",
    "\n",
    "import numpy as np\n",
    "import pandas as pd\n",
    "import matplotlib.pyplot as plt   # main plotting library\n",
    "import re\n",
    "import preprocessor as p \n",
    "import os\n",
    "\n",
    "import nltk \n",
    "from nltk.sentiment.vader import SentimentIntensityAnalyzer\n",
    "from nltk.corpus import stopwords\n",
    "from nltk.tokenize import word_tokenize \n",
    "import json\n",
    "import urllib\n",
    "from bs4 import BeautifulSoup\n",
    "\n",
    "\n",
    "\n",
    "nltk.download('punkt')\n",
    "nltk.download('stopwords')\n",
    "sw = set(stopwords.words('english'))\n",
    "sid = SentimentIntensityAnalyzer() \n",
    "\n",
    "def sentiment_analyzer(t):\n",
    "    cleaned = word_tokenize(re.sub(\"[^a-zA-Z]\", \" \", p.clean(t)).strip().lower())\n",
    "    token_list = [w for w in cleaned if not w in sw]  \n",
    "    s=\" \".join(token_list)\n",
    "    return sid.polarity_scores(s)\n",
    "\n",
    "\n",
    "directory = \"./data/nytimes/\"\n",
    "\n",
    "articles = []\n",
    "\n",
    "outfile = open(\"scores11.csv\", \"a+\")\n",
    "f = open(directory+\"11.json\", \"r\")\n",
    "articles =json.load(f)['response']['docs']\n",
    "f.close()\n",
    "\n",
    "for article in articles:\n",
    "    abstract = article['abstract'].lower()\n",
    "    if \"outbreak\" in abstract or \"virus\" in abstract or \"covid\" in abstract:\n",
    "        url = article['web_url']\n",
    "        if \"video\" in url or \"interactive\" in url:\n",
    "            print(url)\n",
    "        else:\n",
    "            c = urllib.request.urlopen(url)\n",
    "            parsed = BeautifulSoup(c, 'html.parser')\n",
    "            articleBody = parsed.find(attrs={\"name\": \"articleBody\"})\n",
    "            if articleBody is not None:\n",
    "                textbody = articleBody.text\n",
    "                scores = sentiment_analyzer(textbody)\n",
    "                toWrite = str(scores['neg'])+\",\"+ str(scores['neu'])+\",\"+str(scores['pos'])+\",\"+str(scores['compound'])+\",\"+article['pub_date']\n",
    "\n",
    "                outfile.write(toWrite+\"\\n\")\n",
    "            else:\n",
    "                print(url)\n",
    "\n",
    "                                    "
   ]
  },
  {
   "cell_type": "code",
   "execution_count": 9,
   "metadata": {},
   "outputs": [],
   "source": [
    "outfile.close()"
   ]
  },
  {
   "cell_type": "code",
   "execution_count": null,
   "metadata": {},
   "outputs": [],
   "source": []
  }
 ],
 "metadata": {
  "kernelspec": {
   "display_name": "Python 3",
   "language": "python",
   "name": "python3"
  },
  "language_info": {
   "codemirror_mode": {
    "name": "ipython",
    "version": 3
   },
   "file_extension": ".py",
   "mimetype": "text/x-python",
   "name": "python",
   "nbconvert_exporter": "python",
   "pygments_lexer": "ipython3",
   "version": "3.7.6"
  }
 },
 "nbformat": 4,
 "nbformat_minor": 4
}
